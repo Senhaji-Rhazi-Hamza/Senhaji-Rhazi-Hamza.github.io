{
 "cells": [
  {
   "cell_type": "markdown",
   "metadata": {},
   "source": [
    "# Generalization of gradient and newton method + case with constraints\n",
    "## Introduction\n",
    "\n",
    "In the previous chapters of gradient and newton descent, we were able to have acess directly to the derivatives of the functions studied, sometimes it's hard to get this acess, and instead of having the exact derivative function, we compute an approximation of the derivative at point using the definition\n",
    "\n",
    "In this chapter we will see how to compute any type of gradient or hessian matrix of a function, then we will see one or two methods used when we want operate a minimization using gradient or newton descent under constraints, and in the real life we want to optimize functions under constraints\n",
    "\n",
    "As a bonus we will compare our implementations with scipy implementations\n",
    "\n",
    "## Plan of this lecon \n",
    "### 1 - General gradient and hessian matrix\n",
    "Starting from the mathematical definition, we give an implementation to the gradient and hessian matrix\n",
    "### 2- Generalisation of Newton method  (Lagrangien-Method included)\n",
    "Here we will see how we can use newton method for optimization problem using the lagrangien method\n",
    "### 3-  Bonus comparaison with scipy \n",
    "Here we take an example from scipy, we run our algorithm and compare with scipy"
   ]
  },
  {
   "cell_type": "markdown",
   "metadata": {},
   "source": [
    "## 1 - General gradient and hessian matrix\n",
    "### 1.1 - Gradient\n",
    "#### 1.1.1 - Gradient definition \n",
    "We take the same definition in the previous chapter of the gradient \n",
    "\n",
    "$\\overrightarrow{grad}f =  \\begin{pmatrix} \n",
    " \\frac{\\partial f}{\\partial x_1} \\\\\n",
    " .\\\\\n",
    " \\frac{\\partial f}{\\partial x_i}\\\\\n",
    ".\\\\\n",
    "\\frac{\\partial f}{\\partial x_n}\n",
    "\\end{pmatrix}$\n",
    "\n",
    "Where $ \\frac{\\partial f}{\\partial x_i}$ is defined as :  $ \\frac{\\partial f}{\\partial x_i} =\\lim\\limits_{dx_i\\to 0} \\frac{f((x_1,...,x_i + dx_i,...,x_n)) - f((x_1,...,x_i,...,x_n))}{dx_i}$ \n",
    "\n",
    "We take a function $f$, and for each $ith$ compenent, we do a tiny perturbation and get $ \\frac{\\partial f}{\\partial x_i}$ then reconstruct all of the $\\overrightarrow{grad}f$\n",
    "\n",
    "#### 1.1.2 - Gradient implementation \n"
   ]
  },
  {
   "cell_type": "code",
   "execution_count": 1,
   "metadata": {},
   "outputs": [],
   "source": [
    "import numpy as np\n",
    "def gradient_f(f,x):\n",
    "    #f the function\n",
    "    assert (x.shape[0] >= x.shape[1]), \"the vector should be a column vector\"\n",
    "    x = x.astype(np.float64)\n",
    "    N = x.shape[0]\n",
    "    #import pdb; pdb.set_trace()\n",
    "    gradient = []\n",
    "    f0 = f(x)\n",
    "    x1 = np.array(x)\n",
    "    # the peturbation is relative to x that why we multiply by norm(x)\n",
    "    eps = abs(np.linalg.norm(x) *  np.finfo(np.float32).eps )\n",
    "    for i in range(N):\n",
    "        xx0 =  np.float(x[i])\n",
    "       # eps =  np.finfo(np.float32).eps \n",
    "        x[i] = x[i] + eps\n",
    "        f1 = f(x)\n",
    "        # Here we use the definition of the partial derivative\n",
    "        gradient.append(np.asscalar(np.array(f1 - f0))/eps)\n",
    "   \n",
    "        x[i] = xx0\n",
    "    return np.array(gradient).reshape(x.shape)"
   ]
  },
  {
   "cell_type": "markdown",
   "metadata": {},
   "source": [
    "#### 1.1.3 - Comparaison with temperature example\n",
    "Our function temperature from the preivous gradient chapter is defined as $T = \\frac{x^2}{2} + y^2$\n",
    "and it's gradient is :\n",
    "$\\overrightarrow{grad}T(x, y) = \\begin{pmatrix} \n",
    "\\frac{\\partial T(x, y)}{\\partial x}  \\\\\n",
    "\\frac{\\partial T(x, y)}{\\partial y}  \n",
    "\\end{pmatrix}=\\begin{pmatrix} \n",
    "x  \\\\\n",
    "2y  \n",
    "\\end{pmatrix}\n",
    "$\n",
    "\n",
    "Now we will be comparing our implementation of the general gradient to the real gradient then to scipy implementation, one of the best python library for linear algebra"
   ]
  },
  {
   "cell_type": "code",
   "execution_count": 2,
   "metadata": {},
   "outputs": [],
   "source": [
    "#defining Temprature function\n",
    "def T(x):\n",
    "    return ((x[0])**2)/2 + ((x[1])**2) \n",
    "#defining Grad of T\n",
    "def gradT(x):\n",
    "    return np.array([x[0] , 2 * x[1]]).reshape(x.shape)"
   ]
  },
  {
   "cell_type": "code",
   "execution_count": 3,
   "metadata": {},
   "outputs": [
    {
     "name": "stdout",
     "output_type": "stream",
     "text": [
      "point choosen : \n",
      " [[89.72438341]\n",
      " [16.26338095]] \n",
      "\n",
      "val of real gradient: \n",
      " [[89.72438341]\n",
      " [32.5267619 ]]\n",
      "val of our implemented gradient: \n",
      " [[89.72438877]\n",
      " [32.52677278]]\n"
     ]
    }
   ],
   "source": [
    "# we take a random point in space\n",
    "x = np.random.rand(2,1).reshape(2,1) * 100\n",
    "\n",
    "print(\"point choosen : \\n\",x,\"\\n\")\n",
    "print(\"val of real gradient: \\n\",gradT(x))\n",
    "print(\"val of our implemented gradient: \\n\",gradient_f(T,x))"
   ]
  },
  {
   "cell_type": "markdown",
   "metadata": {},
   "source": [
    "#### 1.1.4 - Comparaison with scipy\n"
   ]
  },
  {
   "cell_type": "code",
   "execution_count": 4,
   "metadata": {},
   "outputs": [
    {
     "data": {
      "text/plain": [
       "array([89.72438281, 32.526757  ])"
      ]
     },
     "execution_count": 4,
     "metadata": {},
     "output_type": "execute_result"
    }
   ],
   "source": [
    "#Scipy is the python library for linear algebra, that contain a lot off implementations \n",
    "import scipy\n",
    "from scipy import optimize\n",
    "eps = np.sqrt(np.finfo(np.float).eps)\n",
    "xx = x.reshape(2,)\n",
    "optimize.approx_fprime(xx, T, [np.sqrt(xx[0]) * eps, np.sqrt(xx[1]) * eps])\n"
   ]
  },
  {
   "cell_type": "markdown",
   "metadata": {},
   "source": [
    "#### 1.1.5 Comments\n",
    "As excpected, our implementation is close to scipy implementation and close to the real gradient evaluation"
   ]
  },
  {
   "cell_type": "markdown",
   "metadata": {},
   "source": [
    "### 1.2 - Hessian\n",
    "#### 1.1.2 - Hessian definition\n",
    "The hessian matrix of a function $f$ is defined as \n",
    "$\\textbf{H}_{f(x)} =  \\begin{pmatrix} \n",
    "\\frac{\\partial^2 f(x)}{\\partial x_{1}^2} &..& \\frac{\\partial^2 f(x)}{\\partial x_1  \\partial x_n} \\\\\n",
    "\\frac{\\partial^2 f(x)}{\\partial x_n  \\partial x_1} &..& \\frac{\\partial^2 f(x)}{\\partial x_{n}^2}\n",
    "\\end{pmatrix}$   \n",
    "\n",
    "The hessian matrix some how can be seen as applying the gradient operator 2 times, a 1st time we obtain a vector, a second time on each componenent of the first vector obtained, then we will use this idea to do the implementation"
   ]
  },
  {
   "cell_type": "code",
   "execution_count": 5,
   "metadata": {},
   "outputs": [],
   "source": [
    "def hessian (f, x):\n",
    "    N = x.shape[0]\n",
    "    x = x.astype(np.float64)\n",
    "    hessian = np.zeros((N,N)) \n",
    "    gd_0 = gradient_f(f,x)\n",
    "    eps = abs(np.linalg.norm(gd_0) * np.finfo(np.float32).eps )\n",
    "    for i in range(N):\n",
    "        xx0 = np.float(x[i])\n",
    "        x[i] = xx0 + eps\n",
    "        gd_1 =  gradient_f(f, x)\n",
    "        hessian[:,i] = ((gd_1 - gd_0)/eps).reshape(x.shape[0])\n",
    "        x[i] =xx0\n",
    "    return hessian"
   ]
  },
  {
   "cell_type": "code",
   "execution_count": 6,
   "metadata": {},
   "outputs": [
    {
     "data": {
      "text/plain": [
       "array([[1.00269888e+00, 1.00397961e-03],\n",
       "       [2.00797920e-03, 1.99551825e+00]])"
      ]
     },
     "execution_count": 6,
     "metadata": {},
     "output_type": "execute_result"
    }
   ],
   "source": [
    "hessian(T, x)"
   ]
  },
  {
   "cell_type": "markdown",
   "metadata": {},
   "source": [
    "Knowing that the hessian matrix computed in Newton descent chapter section 3.1 is $\\begin{pmatrix} \n",
    "1 & 0\\\\\n",
    "0 &  2 \n",
    "\\end{pmatrix}$ we had by this method an approximation of it, without any need to know the real differentiation of the function "
   ]
  },
  {
   "cell_type": "markdown",
   "metadata": {},
   "source": [
    "### 2 - Generalisation of Newton method  (Lagrangien-Method included)\n",
    "Now that we have seen implementations of gradient and hessian, we will see first how we plug them in newton algorithm then we will see the most important thing of this chapter : $ \\textbf{the case when we have constraints and we want to do an optimization} $\n"
   ]
  },
  {
   "cell_type": "markdown",
   "metadata": {},
   "source": [
    "#### 2.1 - General Newton descent (without constraints) \n",
    "\n",
    "As a reminder Newton sequence is $ x_{n + 1} = x_n+ -  {f^{''}(x)}^{-1} f^{'}(x)$ and the temperature equation is $T(x,y)  = \\frac{x^2}{2} + y^2$\n",
    "\n",
    "If we run the newton optimization, we should find the minumum is achieved for $x = 0$ and $y = 0$"
   ]
  },
  {
   "cell_type": "code",
   "execution_count": 7,
   "metadata": {},
   "outputs": [],
   "source": [
    "# Implementation\n",
    "def newton(func, x0, tol = 1e-4):\n",
    "    x1 = np.ones(x0.shape[0]).reshape(x0.shape) + x0\n",
    "    while(np.linalg.norm(x1 - x0) > tol):\n",
    "        x0 = x1\n",
    "        grad = gradient_f(func, x0)\n",
    "        x1 = x0 - np.linalg.pinv(hessian(func, x0)) @ (grad)\n",
    "    return x1"
   ]
  },
  {
   "cell_type": "code",
   "execution_count": 8,
   "metadata": {},
   "outputs": [
    {
     "name": "stdout",
     "output_type": "stream",
     "text": [
      "val of x : [4.71153328e-08]\n",
      "val of y : [5.77226699e-08]\n"
     ]
    }
   ],
   "source": [
    "x = newton(T, x)\n",
    "print(\"val of x :\", x[0])\n",
    "print(\"val of y :\", x[1])"
   ]
  },
  {
   "cell_type": "markdown",
   "metadata": {},
   "source": [
    "As expected $x \\approx 0$ and $y \\approx 0$ we have good reasons of thinking that our algorithm behaves as expected, let's move to the case with constraints"
   ]
  },
  {
   "cell_type": "markdown",
   "metadata": {},
   "source": [
    "#### 2.2 - Case with constraints\n",
    "##### 2.2.1 - Intro\n",
    "\n",
    "This is one of the most important section in the optimization part, it's a little bit heavy to explain rigorously, we will make it clear by intuition and vizualisation\n",
    "\n",
    "##### 2.2.2 - How gradient behave ?\n",
    "\n",
    "Before attacking directly the introductory example of the constraints, it's important to see that the gradient evaluated on a point $X_0$ is always orthogonal to the level energy where $X_0$ belong, which make senses because, the gradient give the direction where the function increase/decrease, so it has'nt any component that encourage the function to stay in the same level of energy, we will illustrate that graphically\n",
    "\n",
    "\n",
    "We will take again our dear temperature function $T(x,y)  = \\frac{x^2}{2} + y^2$, and consider the levels\n",
    "of \"energy\" where $T(x,y) = c_{ste} \\implies \n",
    "\\begin{align}\n",
    "\\frac{x^2}{2} + y^2 = c_{ste}\\iff y = \\pm{\\sqrt{c_{ste} - \\frac{x^2}{2} }}\n",
    "\\end{align}\n",
    "$\n",
    "\n",
    "We will graphically take some point and see that the gradient is orthogonal to the level of energy which a point belong\n",
    "\n",
    "\n"
   ]
  },
  {
   "cell_type": "code",
   "execution_count": 9,
   "metadata": {},
   "outputs": [],
   "source": [
    "import matplotlib.pyplot as plt\n",
    "import matplotlib.patches as mpatches\n",
    "import numpy as np\n",
    "\n",
    "# y = +- sqrt(C - (x/2)**2)\n",
    "def ellipse(x, C = 1):\n",
    "    val = C - ((x**2)/2)\n",
    "    if (val >= 0) :\n",
    "        return np.sqrt(val)\n",
    "    else:\n",
    "        return np.nan\n",
    "\n",
    "    \n",
    "Cs = np.linspace(0,2,8)\n",
    "X = np.linspace(-2,2,10000)\n",
    "def plot_func(f, X, Cs, color = 'black'):\n",
    "    for C in Cs:\n",
    "        plt.plot(X ,[f(el, C) for el in X ], color)\n",
    "        plt.plot(X ,[-f(el, C) for el in X ], color)\n",
    "        \n",
    "\n",
    "def plot_grad_at(func, X, color = 'green', lam = 1):\n",
    "    grad = gradient_f(func, X)\n",
    "    grad = lam * 0.5 * np.linalg.norm(X)/np.linalg.norm(grad) * grad\n",
    "    plt.arrow(np.asscalar(X[0]), np.asscalar(X[1]), - np.asscalar(grad[0]), - np.asscalar(grad[1]), head_width=0.1, head_length=0.1, color = color, ec=color)\n",
    "\n",
    "plot_func(ellipse, X, Cs)\n",
    "\n",
    "#we take four distinct point as we can observe that the gradient is orthogonal\n",
    "\n",
    "X1 = np.array([1.25, 0]).reshape(2,1)\n",
    "X2 = np.array([-0.5, 1]).reshape(2,1)\n",
    "X3 = np.array([0.5, -1]).reshape(2,1)\n",
    "X4 = np.array([-1, 0]).reshape(2,1)\n",
    "\n",
    "plot_grad_at(T, X1, 'red')\n",
    "plot_grad_at(T, X2, 'green')\n",
    "plot_grad_at(T, X3,'blue')\n",
    "plot_grad_at(T, X4,'y')\n"
   ]
  },
  {
   "cell_type": "markdown",
   "metadata": {},
   "source": [
    "##### Comments \n",
    "We see in this example where ever we take the gradient, is always orthogonal to the level of energy where the point considered belong "
   ]
  },
  {
   "cell_type": "markdown",
   "metadata": {},
   "source": [
    "##### 2.2.3 - How constraints looks like ?\n",
    "\n",
    "Congrat's you haven't gave up yet !!, our objective is still the same, minimize $T(x, y)$ but what is different, is that the gouvernament of our hypothetical world, came up with a law, that you can't approach the origin $(0,0)$ by less than 1 unity of distance.\n",
    "\n",
    "\n",
    "It is annoying since we know that our minimum is at $(0, 0)$, but it's okih, we are going to deel with this constraint, how this constraint look like ?\n",
    "\n",
    "\n",
    "This constraint is a circle arround the origin, and our objective now is to figure out, what is the point on the circle that minimize the most $T(x,y)$\n",
    "\n",
    "\n",
    "In other words we minimize $T(x,y)$ subject to the constraint $R(x,y) = x^2 + y^2 = 1$ or can also be expressed as  $G(x,y) = R(x,y) - 1 = 0$\n",
    "\n",
    "Let's see how all of that looks like\n"
   ]
  },
  {
   "cell_type": "code",
   "execution_count": 10,
   "metadata": {},
   "outputs": [
    {
     "data": {
      "image/png": "[encoded data removed]",
      "text/plain": [
       "<Figure size 432x288 with 1 Axes>"
      ]
     },
     "metadata": {
      "needs_background": "light"
     },
     "output_type": "display_data"
    }
   ],
   "source": [
    "def circle(x, C = 1):\n",
    "    val = C - ((x**2))\n",
    "    if (val >= 0) :\n",
    "        return np.sqrt(val)\n",
    "    else:\n",
    "        return np.nan\n",
    "\n",
    "plot_func(ellipse, X, Cs)\n",
    "plot_func(circle, X, [1], 'red')\n"
   ]
  },
  {
   "cell_type": "markdown",
   "metadata": {},
   "source": [
    "##### Comments\n",
    "We see intuitively/graphically that the points that satisfy a minimum of $T(x,y)$ and at the same time staying away from the origin by one unity are $(-1,0)$ and $(1,0)$\n",
    "\n"
   ]
  },
  {
   "cell_type": "markdown",
   "metadata": {},
   "source": [
    "#### Colinearities of gradients\n",
    "\n",
    "$R(x,y) = 1$ is a also a level of energy for the function $R(x,y)$ and the gradient computed on any point of this level, will be orthogonal to this level as seen earlier\n",
    "\n",
    "The idea of a minimization, is to seek for the point where the constraint curve will be tangeant to the minimum energy level that satisfy the constraint\n",
    "\n",
    "Since both tangant curves are levels of energy, we can infer that their gradient are colinear $\\nabla_{x,y} T = \\lambda . \\nabla_{x,y} R $ \n",
    "\n",
    "Since we intuitively found the solution points are $(-1,0)$ and $(1, 0)$, we will plot the gradient in one of them, for both functions and see that the gradients are colinear at this point "
   ]
  },
  {
   "cell_type": "code",
   "execution_count": 11,
   "metadata": {},
   "outputs": [
    {
     "data": {
      "image/png": "[encoded data removed]",
      "text/plain": [
       "<Figure size 432x288 with 1 Axes>"
      ]
     },
     "metadata": {
      "needs_background": "light"
     },
     "output_type": "display_data"
    }
   ],
   "source": [
    "#defining Temprature function\n",
    "def R(x):\n",
    "    return ((x[0])**2) + ((x[1])**2) \n",
    "\n",
    "plot_func(ellipse, X, Cs)\n",
    "plot_func(circle, X, [1], 'red')\n",
    "X1 = np.array([1, 0]).reshape(2,1)\n",
    "X2 = np.array([0.8, 0.5]).reshape(2,1)\n",
    "X3 = np.array([0, -1]).reshape(2,1)\n",
    "plot_grad_at(T, X1, 'blue')\n",
    "plot_grad_at(R, X1, 'green', lam = 2)\n",
    "plot_grad_at(T, X2, 'gray')\n",
    "plot_grad_at(R, X2, 'brown')\n",
    "plot_grad_at(T, X3, 'yellow', lam = 1.5)\n",
    "plot_grad_at(R, X3, 'black')"
   ]
  },
  {
   "cell_type": "markdown",
   "metadata": {},
   "source": [
    "##### Comments\n",
    "As we see the gradients of the curves are colinear at the minima point $(1,0)$ and are not in another point $(0.8, 0.5)$\n",
    "\n",
    "##### NB \n",
    "The points $(0,1)$ and $(0,-1)$ if encountred in the descent, can be given as solutions, because our constraint function is not convex and admit 4 extremum, 2 minima and 2 maxima, and when we are at the extremums the gradients satify the colinearity too\n"
   ]
  },
  {
   "cell_type": "markdown",
   "metadata": {},
   "source": [
    "##### 2.2.4 - Lagrangian \n",
    "\n",
    "We introduce a function called lagrangian such as $L(x,y,\\lambda) = T(x,y) + \\lambda . R(x,y)$\n",
    "\n",
    "What happens is that solving $\\nabla_{(x,y,\\lambda)} L  = 0 \\iff \\colon\\begin{cases}\n",
    "\\nabla_{x,y} T = \\lambda . \\nabla_{x,y} R\\\\\n",
    "R(x,y) = 0\n",
    "\\end{cases}$ \n",
    "\n",
    "But there is a problem For us $R(x,y) = 1$ and not $0$ but $G(x,y) = R(x,y) - 1$ is $0$ when $R(x,y) = 1$, so we replace in $L$ $R$ by $G$ such as   $L(x,y,\\lambda) = T(x,y) + \\lambda . G(x,y)$\n",
    "\n",
    "Then we obtain solving $\\nabla_{(x,y,\\lambda)} L  = 0 \\iff \\colon\\begin{cases}\n",
    "\\nabla_{x,y} T = \\lambda . \\nabla_{x,y} R\\\\\n",
    "G(x,y) = 0\n",
    "\\end{cases}$ \n",
    "\n",
    "We moved from a problem of optimization with constraint, to another one with greater dimension, without constraint\n",
    "\n",
    "\n",
    "##### 2.2.5 - multiple constraints\n",
    "\n",
    "We can have this simplistic reasoning, that each constraint $R_i$ will generate an equation $\\nabla_{x,y} T = \\lambda_i . \\nabla_{x,y} R_i\\\\$\n",
    "\n",
    "If we have $m$ constraints we obtain m equations that we can some together : $ m \\nabla_{x,y} T = \\sum_{i = 1}^{i = m} \\lambda_i . \\nabla_{x,y} R_i$ \n",
    "\n",
    "by considering $\\lambda_i \\leftarrow \\frac{\\lambda_i}{m}$\n",
    "\n",
    "We end up with a lagrangian expressed as $L(x,y,\\lambda_1,..,\\lambda_i,.., \\lambda_m) = T(x,y) + \\lambda . G(x,y)$\n",
    "\n",
    "where $\\lambda^T = (\\lambda_1,..,\\lambda_i, ..,\\lambda_m)$ and $G(x,y)^T = (g_1(x,y),..,g_i(x,y),..,g_m(x,y))$  is a function from ${\\Bbb R}^2\\longrightarrow {\\Bbb R}^m $\n",
    "\n",
    "For more precise and rigorous (but difficult) informations, check out [Convex Optimization book](http://web.stanford.edu/~boyd/cvxbook/bv_cvxbook.pdf) \n",
    "\n",
    "find additional and useful information in wikipedia : [link1](https://en.wikipedia.org/wiki/Lagrange_multiplier), [link2](https://en.wikipedia.org/wiki/Karush%E2%80%93Kuhn%E2%80%93Tucker_conditions)\n"
   ]
  },
  {
   "cell_type": "markdown",
   "metadata": {},
   "source": [
    "##### 2.2.6 - implementation\n",
    "So as explained previously, the lagrangien allow us to move from having a function $h(x)$ subject to $g(x)$ that we want optimize to another function $L(x,\\lambda) =  h(x) + \\lambda.g(x)$ to optimize\n",
    "\n",
    "In the implementation we define a function that takes a list of functions constraints, the dimension of the initial space (space of input x for h(x)) and come up with the lagrangian function ready to be handed for a newtion optimization"
   ]
  },
  {
   "cell_type": "code",
   "execution_count": 12,
   "metadata": {},
   "outputs": [],
   "source": [
    "def lagrangien(func, N, phis = []):\n",
    "    return lambda x: np.asscalar(func(x[:N]) + x[N:].T @ (np.array([phi(x[:N]) for phi in phis])).reshape(len(x[N:]),1))"
   ]
  },
  {
   "cell_type": "code",
   "execution_count": 13,
   "metadata": {},
   "outputs": [],
   "source": [
    "#constraint function\n",
    "def G(x):\n",
    "    return R(x) - 1\n",
    "#\n",
    "lag = lagrangien(T, 2, [G])\n",
    "x0 = np.array([1, 2, 1]).reshape(3,1)"
   ]
  },
  {
   "cell_type": "code",
   "execution_count": 14,
   "metadata": {},
   "outputs": [
    {
     "name": "stdout",
     "output_type": "stream",
     "text": [
      "val of x [-1.00025486]\n",
      "val of y [9.158513e-07]\n",
      "val of lambda [-1.00025486]\n"
     ]
    }
   ],
   "source": [
    "sol = newton(lag, x0)\n",
    "print(\"val of x\", sol[0])\n",
    "print(\"val of y\", sol[1])\n",
    "print(\"val of lambda\", sol[0])"
   ]
  },
  {
   "cell_type": "markdown",
   "metadata": {},
   "source": [
    "#### Comments\n",
    "As expected one of the 2 minima appeared $(-1, 0)$, but we are lucky because our function is not convex and we have choosen a point where during the convergence we did not pass by $(0, 1)$ or $(0, -1)$\n",
    "\n"
   ]
  },
  {
   "cell_type": "markdown",
   "metadata": {},
   "source": [
    "### 3 Bonus comparaison with scipy \n",
    "We took a scipy example : https://docs.scipy.org/doc/scipy/reference/tutorial/optimize.html"
   ]
  },
  {
   "cell_type": "code",
   "execution_count": 15,
   "metadata": {},
   "outputs": [
    {
     "name": "stdout",
     "output_type": "stream",
     "text": [
      "Optimization terminated successfully.\n",
      "         Current function value: 0.000000\n",
      "         Iterations: 20\n",
      "         Function evaluations: 21\n",
      "         Gradient evaluations: 20\n",
      "         Hessian evaluations: 19\n",
      "scipy solution is [1. 1. 1. 1. 1.]\n"
     ]
    }
   ],
   "source": [
    "from scipy.optimize import minimize, rosen, rosen_der, rosen_hess\n",
    "x1 = [1.3, 0.7, 0.8, 1.9, 1.2]\n",
    "#Comparaison with scipy\n",
    "def rosen(x):\n",
    "    \"\"\"The Rosenbrock function\"\"\"\n",
    "    return sum(100.0*(x[1:]-x[:-1]**2.0)**2.0 + (1-x[:-1])**2.0)\n",
    "\n",
    "def rosen_der(x):\n",
    "    xm = x[1:-1]\n",
    "    xm_m1 = x[:-2]\n",
    "    xm_p1 = x[2:]\n",
    "    der = np.zeros_like(x)\n",
    "    der[1:-1] = 200*(xm-xm_m1**2) - 400*(xm_p1 - xm**2)*xm - 2*(1-xm)\n",
    "    der[0] = -400*x[0]*(x[1]-x[0]**2) - 2*(1-x[0])\n",
    "    der[-1] = 200*(x[-1]-x[-2]**2)\n",
    "    return der\n",
    "\n",
    "def rosen_hess(x):\n",
    "    x = np.asarray(x)\n",
    "    H = np.diag(-400*x[:-1],1) - np.diag(400*x[:-1],-1)\n",
    "    diagonal = np.zeros_like(x)\n",
    "    diagonal[0] = 1200*x[0]**2-400*x[1]+2\n",
    "    diagonal[-1] = 200\n",
    "    diagonal[1:-1] = 202 + 1200*x[1:-1]**2 - 400*x[2:]\n",
    "    H = H + np.diag(diagonal)\n",
    "    return H\n",
    "res = minimize(rosen, x1, method='trust-ncg',\n",
    "               jac=rosen_der, hess=rosen_hess,\n",
    "               options={'gtol': 1e-8, 'disp': True})\n",
    "print(\"scipy solution is\",res.x)"
   ]
  },
  {
   "cell_type": "code",
   "execution_count": 16,
   "metadata": {},
   "outputs": [
    {
     "name": "stdout",
     "output_type": "stream",
     "text": [
      "implemented solution is\n",
      " [[0.99998568]\n",
      " [0.99997155]\n",
      " [0.99994339]\n",
      " [0.99988698]\n",
      " [0.99977384]]\n"
     ]
    }
   ],
   "source": [
    "res = newton(rosen, np.array(x1).reshape(5,1))\n",
    "print(\"implemented solution is\\n\",res)"
   ]
  },
  {
   "cell_type": "markdown",
   "metadata": {},
   "source": [
    "We are not that far from scipy !! I wish you enjoyed the implementation of the optimization with lagrangian multipliers, thank you !!"
   ]
  }
 ],
 "metadata": {
  "kernelspec": {
   "display_name": "Python 3",
   "language": "python",
   "name": "python3"
  },
  "language_info": {
   "codemirror_mode": {
    "name": "ipython",
    "version": 3
   },
   "file_extension": ".py",
   "mimetype": "text/x-python",
   "name": "python",
   "nbconvert_exporter": "python",
   "pygments_lexer": "ipython3",
   "version": "3.6.6"
  }
 },
 "nbformat": 4,
 "nbformat_minor": 2
}
