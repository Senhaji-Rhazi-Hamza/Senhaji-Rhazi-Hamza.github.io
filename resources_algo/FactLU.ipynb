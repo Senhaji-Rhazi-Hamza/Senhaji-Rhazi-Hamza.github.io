{
 "cells": [
  {
   "cell_type": "markdown",
   "metadata": {},
   "source": [
    "## Factorization LU\n",
    "\n",
    "The idea behind LU factorization is instead of manipulating a matrix $A$ we can break the difficulty by factorizing it to a product of a lower triangular matrix $L$ and an upper triangular matrix $U$ such as \n",
    "$A = LU$, at least we have 3 benefits from that : \n",
    "\n",
    "\n",
    "#### 1 - Solving a system  $Ax = b$ \n",
    "\n",
    "As  $A = LU$ instead of solving $Ax = b$ it's equivalent to solve $\\begin{cases} Ly = b \\\\ Ux = y  \\end{cases}$ we solve a triangular matrix with $O_(n^2)$ instead of $O_(n^3)$ for Gauss solving method but we obtain $L$ and $U$ with a complexity of $O_(n^3)$\n",
    "\n",
    "So you will tell me why we do that ?!\n",
    "\n",
    "we do that when we have to solve the problem for multiple $b$\n",
    "#### 2 - Computing determinent  $det(A)$ \n",
    "$det(A) = det(LU) = det(L) * det(U)$ since $det(T) = \\prod_{i=1}^{n} t_{ii} $  when   $T$ a triangular matrix of dimension n\n",
    "\n",
    "#### 3 -Computing inverse matrix $A^{-1}$\n",
    "Or when we want to compute the inverse of a square Matrix A, there is a technic where we apply jordan gauss method to $[A|I_n]$ the resulted Matrix is $[I_n | A^{-1}]$"
   ]
  },
  {
   "cell_type": "markdown",
   "metadata": {},
   "source": [
    "### 1 - Computing $L$ and $U$\n",
    "\n",
    "In the Gauss method seen just previously, by doing some linear operations on $A$ :\n",
    "\n",
    "$\n",
    "A \\in M_n(R) \\forall i \\in \\; [k,n] L_i^{(k+1)} = L_i^{(k)} - m_i^{(k)} L_k \\tag{1}\\label{eq:one}\n",
    "$ \n",
    "\n",
    "where $  m_i^{(k)} = \\frac{a_{ik}}{a_{kk}}, k \\in [2, n]$    and $a_{kk}$ is called the pivot  \n",
    "\n",
    "\n",
    "\n",
    "We obtained a triangular upper matrix, and that matrix is actually $U$\n",
    "\n",
    "And you know that doing linear operations on a matrix is equivalent to mulitiply it by a matrix, since the operation expressed above in $\\eqref{eq:one}$ can be reexpressed with matrix this way $A^{k + 1} = G^{(k)} A^{k}$ where \n",
    "\n",
    "\n",
    "$G^{(k)} = \\begin{pmatrix} \n",
    "1 & .. & 0 & 0 & 0 & 0 \\\\\n",
    "0 & .. & .. & 0 & 0 & 0\\\\\n",
    "0 & .. & 1 & 0 & 0 & 0\\\\\n",
    "0 & .. & - m^{(k)}_{k+1} & 1 & 0 \\\\\n",
    "0 & .. & .. & 0 & 1 & 0 \\\\\n",
    "0 & .. &  - m^{(k)}_{n} & 0 & 0 & 1\n",
    "\\end{pmatrix}$\n",
    "\n",
    "Wich lead to $U = G^{(n - 1)}..G^{(2)}G^{(1)}A$, but we want a form  $L U =  A$ wihch mean that $L =  (G^{(1)})^{-1}..(G^{(n - 2)})^{-1}(G^{(n - 1)})^{-1}$\n",
    "\n",
    "To compute $(G^{(k)})^{-1}$ we can use comatrix and det, see [Wikipedia](https://en.wikipedia.org/wiki/Invertible_matrix)\n",
    "\n",
    "or we can inteligently notice that $G^{(k)} A$ is an operation that Keep $A$ and to each line $L_i$ it does the operation $ L_i  \\leftarrow  L_i - m_i^{(k)}  \\;| \\; i \\in \\; [k,n]$ so the reverse operation is $ L_i  \\leftarrow  L_i + m_i^{(k)}  \\;| \\; i \\in \\; [k,n]$ then :\n",
    "\n",
    "$\\Omega^{(k)} = (G^{(k)})^-1 = \\begin{pmatrix} \n",
    "1 & .. & 0 & 0 & 0 & 0 \\\\\n",
    "0 & .. & .. & 0 & 0 & 0\\\\\n",
    "0 & .. & 1 & 0 & 0 & 0\\\\\n",
    "0 & .. &  m^{(k)}_{k+1} & 1 & 0 \\\\\n",
    "0 & .. & .. & 0 & 1 & 0 \\\\\n",
    "0 & .. &  m^{(k)}_{n} & 0 & 0 & 1\n",
    "\\end{pmatrix}$\n",
    "\n",
    "to be sure you can compute $(G^{(k)}\\Omega^{(k)})_{ij} = \\sum_{p=1}^{p = n} g^{(k)}_{ip}  \\omega^{(k)}_{pj} \\;= \\; \\delta_{ij} = \\; (I_n)_{ij} $ where \n",
    "$\\begin{cases} g^{(k)}_{ij} = \\delta_{ij} - m^{(k)}_{i} \\delta_{ik}  \\;\\;i >= k \\\\ g^{(k)}_{ij} =0  \\;\\;i < k \\end{cases}$ and $\\begin{cases} \\omega^{(k)}_{ij} = \\delta_{ij} + m^{(k)}_{i} \\delta_{ik}  \\;\\;i >= k \\\\ \\omega^{(k)}_{ij} =0  \\;\\;i < k \\end{cases}$\n",
    "\n",
    "more than that we can show it in the notebook\n",
    "\n"
   ]
  },
  {
   "cell_type": "markdown",
   "metadata": {},
   "source": [
    "#### 1.1 - Compute $G^{(k)}$ and $\\Omega^{(k)}$"
   ]
  },
  {
   "cell_type": "code",
   "execution_count": 1,
   "metadata": {},
   "outputs": [],
   "source": [
    "import numpy as np"
   ]
  },
  {
   "cell_type": "code",
   "execution_count": 2,
   "metadata": {},
   "outputs": [],
   "source": [
    "def get_Gk(k,A, sign = -1):\n",
    "    G = np.identity(A.shape[0]).astype(np.float64)\n",
    "    j = np.argmax(abs(G[:,k]))\n",
    "    G = np.array(permutation_matrix(G.shape[0],k,j) @ G)\n",
    "    for i in range(k + 1, A.shape[0]):\n",
    "        G[i,k] = + sign *  (A[i,k])/(A[k,k])\n",
    "    return G\n",
    "def get_Wk(k, A):\n",
    "    return get_Gk(k,A, 1)\n",
    "\n",
    "# We use permutation matrix to avoid akk = 0 \n",
    "# This a permutation Matrix P that when multiplied by M, we permut for M the ith and jth line\n",
    "def permutation_matrix(rang, i, j):\n",
    "    P = np.identity(rang).astype(np.float64)\n",
    "    tmp = P[j].copy()\n",
    "    P[j] = P[i].copy()\n",
    "    P[i] = tmp\n",
    "    return P"
   ]
  },
  {
   "cell_type": "code",
   "execution_count": 3,
   "metadata": {},
   "outputs": [
    {
     "name": "stdout",
     "output_type": "stream",
     "text": [
      "Matrix A\n",
      " [[-2  1 -1]\n",
      " [-3 -1  2]\n",
      " [-2  1  2]]\n",
      "\n",
      "Vector b\n",
      " [[  8]\n",
      " [-11]\n",
      " [ -3]]\n"
     ]
    }
   ],
   "source": [
    "# We take the same example as preivously in gauss method\n",
    "import numpy as np\n",
    "A = np.array([[-2,1,-1],[-3,-1,2],[-2,1,2]])\n",
    "b = np.array([8, -11, -3]).reshape(3,1)\n",
    "print(\"Matrix A\\n\",A)\n",
    "print(\"\\nVector b\\n\",b)"
   ]
  },
  {
   "cell_type": "markdown",
   "metadata": {},
   "source": [
    "#### 1.2 - Confirming that  $G^{(k)-1} = \\Omega^{(k)}$\n"
   ]
  },
  {
   "cell_type": "code",
   "execution_count": 4,
   "metadata": {},
   "outputs": [
    {
     "name": "stdout",
     "output_type": "stream",
     "text": [
      "G_k matrix :  \n",
      "\n",
      " [[1. 0. 0.]\n",
      " [0. 1. 0.]\n",
      " [0. 1. 1.]] \n",
      "\n",
      "W_k matrix :  \n",
      "\n",
      " [[ 1.  0.  0.]\n",
      " [ 0.  1.  0.]\n",
      " [ 0. -1.  1.]] \n",
      "\n",
      "W_k G_k product matrix wich is equal to identity : \n",
      "\n",
      " [[1. 0. 0.]\n",
      " [0. 1. 0.]\n",
      " [0. 0. 1.]] \n",
      "\n"
     ]
    }
   ],
   "source": [
    "print(\"G_k matrix :  \\n\\n\",get_Gk(1,A), \"\\n\")\n",
    "print(\"W_k matrix :  \\n\\n\",get_Wk(1,A), \"\\n\")\n",
    "print(\"W_k G_k product matrix wich is equal to identity : \\n\\n\",get_Wk(1,A)@get_Gk(1,A), \"\\n\")\n"
   ]
  },
  {
   "cell_type": "markdown",
   "metadata": {},
   "source": [
    "#### 1.3 -U is equal to the triangular matrix obtained by gauss elimination method"
   ]
  },
  {
   "cell_type": "markdown",
   "metadata": {},
   "source": [
    "We indeed had the identity by the product of $(G^{(k)}\\Omega^{(k)})$,  now we are going to see that $U = G^{(n - 1)}..G^{(2)}G^{(1)}A$ where $U$ is the result of gauss elimination method"
   ]
  },
  {
   "cell_type": "code",
   "execution_count": 5,
   "metadata": {},
   "outputs": [
    {
     "data": {
      "text/plain": [
       "array([[ -2,   1,  -1,   8],\n",
       "       [ -3,  -1,   2, -11],\n",
       "       [ -2,   1,   2,  -3]])"
      ]
     },
     "execution_count": 5,
     "metadata": {},
     "output_type": "execute_result"
    }
   ],
   "source": [
    "# we stack the matrix as we can do the lines operations in one time\n",
    "stackA = np.hstack((A,b))\n",
    "stackA"
   ]
  },
  {
   "cell_type": "code",
   "execution_count": 6,
   "metadata": {},
   "outputs": [],
   "source": [
    "# preivous method\n",
    "def gauss(stackA):\n",
    "    #we convert to np.float 64 because we do divisions that convert thing in float, so to avoid int cast we make it float\n",
    "    T = np.array(stackA).astype(np.float64)\n",
    "    for k in range(0, T.shape[0] - 1):\n",
    "        p = 0\n",
    "        for i in range(k + 1,T.shape[0]):\n",
    "            m = T[i,k]/T[k,k]\n",
    "            el = T[i] - (T[k] * m)\n",
    "            T[i] +=  - (T[k] * m)\n",
    "    return T"
   ]
  },
  {
   "cell_type": "code",
   "execution_count": 7,
   "metadata": {},
   "outputs": [
    {
     "data": {
      "text/plain": [
       "array([[ -2. ,   1. ,  -1. ,   8. ],\n",
       "       [  0. ,  -2.5,   3.5, -23. ],\n",
       "       [  0. ,   0. ,   3. , -11. ]])"
      ]
     },
     "execution_count": 7,
     "metadata": {},
     "output_type": "execute_result"
    }
   ],
   "source": [
    "gauss(stackA)"
   ]
  },
  {
   "cell_type": "code",
   "execution_count": 8,
   "metadata": {},
   "outputs": [
    {
     "data": {
      "text/plain": [
       "array([[ -2. ,   1. ,  -1. ,   8. ],\n",
       "       [  0. ,  -2.5,   3.5, -23. ],\n",
       "       [  0. ,   0. ,   3. , -11. ]])"
      ]
     },
     "execution_count": 8,
     "metadata": {},
     "output_type": "execute_result"
    }
   ],
   "source": [
    "#new method\n",
    "G1 = get_Gk(0,stackA)\n",
    "G2 = get_Gk(1,G1)\n",
    "G2 @ G1 @ stackA"
   ]
  },
  {
   "cell_type": "code",
   "execution_count": 9,
   "metadata": {},
   "outputs": [
    {
     "data": {
      "text/plain": [
       "True"
      ]
     },
     "execution_count": 9,
     "metadata": {},
     "output_type": "execute_result"
    }
   ],
   "source": [
    "np.allclose(G2 @ G1 @ stackA ,gauss(stackA))"
   ]
  },
  {
   "cell_type": "markdown",
   "metadata": {},
   "source": [
    "#### 1.4 - Comput L and U"
   ]
  },
  {
   "cell_type": "code",
   "execution_count": 10,
   "metadata": {},
   "outputs": [],
   "source": [
    "# so to get U we define \n",
    "from functools import reduce\n",
    "def get_U(A):\n",
    "    G = np.array(A)\n",
    "    list_G = []\n",
    "    for i in range(A.shape[0] - 1):\n",
    "        G = get_Gk(i, G)\n",
    "        list_G.append(G)\n",
    "    return reduce(lambda a,b:a@b, list_G[::-1]) @  A  \n",
    "#and to get L we define \n",
    "def get_L(A):\n",
    "    G = np.array(A)\n",
    "    list_G = []\n",
    "    for i in range(A.shape[0] - 1):\n",
    "        G = get_Wk(i, G)\n",
    "        list_G.append(G)\n",
    "    return reduce(lambda a,b:a@b, list_G)\n",
    "\n"
   ]
  },
  {
   "cell_type": "code",
   "execution_count": 11,
   "metadata": {},
   "outputs": [
    {
     "data": {
      "text/plain": [
       "array([[-2. ,  1. , -1. ],\n",
       "       [ 0. , -2.5,  3.5],\n",
       "       [ 0. ,  0. ,  3. ]])"
      ]
     },
     "execution_count": 11,
     "metadata": {},
     "output_type": "execute_result"
    }
   ],
   "source": [
    "U = get_U(A)\n",
    "U"
   ]
  },
  {
   "cell_type": "code",
   "execution_count": 12,
   "metadata": {},
   "outputs": [
    {
     "data": {
      "text/plain": [
       "array([[1. , 0. , 0. ],\n",
       "       [1.5, 1. , 0. ],\n",
       "       [1. , 0. , 1. ]])"
      ]
     },
     "execution_count": 12,
     "metadata": {},
     "output_type": "execute_result"
    }
   ],
   "source": [
    "L = get_L(A) \n",
    "L"
   ]
  },
  {
   "cell_type": "code",
   "execution_count": 13,
   "metadata": {},
   "outputs": [
    {
     "data": {
      "text/plain": [
       "array([[ True,  True,  True],\n",
       "       [ True,  True,  True],\n",
       "       [ True,  True,  True]])"
      ]
     },
     "execution_count": 13,
     "metadata": {},
     "output_type": "execute_result"
    }
   ],
   "source": [
    "# YES LU = A is RIGHT\n",
    "L @ U  == A"
   ]
  },
  {
   "cell_type": "markdown",
   "metadata": {},
   "source": [
    "#### 1.5 - solving an up and low triangular matrix functions"
   ]
  },
  {
   "cell_type": "code",
   "execution_count": 14,
   "metadata": {},
   "outputs": [],
   "source": [
    "def solve_up(U, b0):\n",
    "    n = len(b0)\n",
    "    #we solve the last equation (line) in the matrix\n",
    "    X = [b0[-1]/U[n - 1, n - 1]]\n",
    "    #we go upper to solve the equations above using the last variable solved\n",
    "    for k in range(n - 2, -1,-1):\n",
    "        a = np.sum([X[(n - 1) - i] * U[k , i] for i in range(n - 1, k, -1)])\n",
    "        term = (1/(U[k,k])) * (b0[k] - a)\n",
    "        X.append(term)\n",
    "    # we reverse W because, we solve it from down to up\n",
    "    return np.array(X[::-1]).reshape(n,1)\n",
    "def solve_down(L, b0):\n",
    "    n = len(b0)\n",
    "    #we solve the last equation (line) in the matrix\n",
    "    X = [b0[0]/L[0, 0]]\n",
    "    #we go upper to solve the equations above using the last variable solved\n",
    "    for k in range(1, n):\n",
    "        a = np.sum([[L[k,i]] * X[i] for i in range(k)])\n",
    "        term = (1/(L[k,k])) * (b0[k] - a)\n",
    "        X.append(term)\n",
    "    # we reverse W because, we solve it from down to up\n",
    "    return np.array(X).reshape(n,1)"
   ]
  },
  {
   "cell_type": "markdown",
   "metadata": {},
   "source": [
    "#### 1.6 - Confirming the theory\n",
    " $Ax = b$ it's equivalent to solve $\\begin{cases} Ly = b \\\\ Ux = y  \\end{cases}$ "
   ]
  },
  {
   "cell_type": "code",
   "execution_count": 15,
   "metadata": {},
   "outputs": [],
   "source": [
    "Y = solve_down(L, b.astype(float))"
   ]
  },
  {
   "cell_type": "code",
   "execution_count": 16,
   "metadata": {},
   "outputs": [],
   "source": [
    "X = solve_up(U,Y)"
   ]
  },
  {
   "cell_type": "code",
   "execution_count": 17,
   "metadata": {},
   "outputs": [
    {
     "data": {
      "text/plain": [
       "True"
      ]
     },
     "execution_count": 17,
     "metadata": {},
     "output_type": "execute_result"
    }
   ],
   "source": [
    "# we obtain as expexted  A X = b which mean that X is our solution\n",
    "np.allclose(A @ X, b)"
   ]
  },
  {
   "cell_type": "markdown",
   "metadata": {},
   "source": [
    "### 2 - Computing determinent  det(A)"
   ]
  },
  {
   "cell_type": "markdown",
   "metadata": {},
   "source": [
    "#### 2.1 Leibinz Formula\n",
    "\n",
    "In this part instead of using numpy for getting the determinant we are going to use [Leibniz Formula](https://en.wikipedia.org/wiki/Leibniz_formula_for_determinants) described by :\n",
    "\n",
    "$det(A) = \\sum_{\\sigma \\in Sn} sign(\\sigma) \\, \\prod_{i = 1}^{i = n} a_{\\sigma(i),i}$\n",
    "\n",
    "where $\\sigma$ is a permutation for $\\{1,2,...,n\\}$ in the permutation groupe $S_n$  and $sign$ return 1 -1 for even and odd permutations respectively\n",
    "\n"
   ]
  },
  {
   "cell_type": "code",
   "execution_count": 18,
   "metadata": {},
   "outputs": [],
   "source": [
    "from itertools import permutations\n",
    "import numpy as np"
   ]
  },
  {
   "cell_type": "code",
   "execution_count": 19,
   "metadata": {},
   "outputs": [],
   "source": [
    "def signature(sigma):\n",
    "    count = 0\n",
    "    for i in range(len(sigma)):\n",
    "        for j in range(i, len(sigma)):\n",
    "            if sigma[i]> sigma[j]:\n",
    "                count += 1\n",
    "    if (count % 2 == 0):\n",
    "        return 1\n",
    "    else:\n",
    "        return -1\n",
    "                "
   ]
  },
  {
   "cell_type": "code",
   "execution_count": 20,
   "metadata": {},
   "outputs": [],
   "source": [
    "def leibinz_formula(A):\n",
    "    detA = 0\n",
    "    for sigma in permutations(range(A.shape[0])):\n",
    "        detA += signature(sigma) * np.product([A[sigma[i], i] for i in range(A.shape[0])])\n",
    "    return detA"
   ]
  },
  {
   "cell_type": "code",
   "execution_count": 21,
   "metadata": {},
   "outputs": [
    {
     "data": {
      "text/plain": [
       "15"
      ]
     },
     "execution_count": 21,
     "metadata": {},
     "output_type": "execute_result"
    }
   ],
   "source": [
    "leibinz_formula(A)"
   ]
  },
  {
   "cell_type": "markdown",
   "metadata": {},
   "source": [
    "#### 2.2 - determinent of a triangular \n",
    "\n",
    "When you have a triangular matrix $T_n$ so the formula for the det is : \n",
    "\n",
    "$det(T_n) = \\prod_{i = 1}^{i = n}t_{i,i}$\n",
    "\n",
    "you can check the [proof](https://proofwiki.org/wiki/Determinant_of_Triangular_Matrix)\n",
    "\n",
    "there for $det(A) = det(L) * det(U) =  \\prod_{i = 1}^{i = n}l_{i,i} *  \\prod_{i = 1}^{i = n}u_{i,i} $"
   ]
  },
  {
   "cell_type": "code",
   "execution_count": 22,
   "metadata": {},
   "outputs": [],
   "source": [
    "# diagonal matrix product \n",
    "def product_diag(T):\n",
    "    return np.product([T[i,i] for i in range(T.shape[0])])"
   ]
  },
  {
   "cell_type": "code",
   "execution_count": 23,
   "metadata": {},
   "outputs": [],
   "source": [
    "detA_li = leibinz_formula(A)\n",
    "detA_np = np.linalg.det(A)\n",
    "detA_lu = product_diag(L) * product_diag(U)"
   ]
  },
  {
   "cell_type": "code",
   "execution_count": 24,
   "metadata": {},
   "outputs": [
    {
     "name": "stdout",
     "output_type": "stream",
     "text": [
      "determinent with liebniz formula :  15\n",
      "determinent with numpy :  15.000000000000007\n",
      "determinent with factorization LU :  15.0\n"
     ]
    }
   ],
   "source": [
    "print(\"determinent with liebniz formula : \", detA_li)\n",
    "print(\"determinent with numpy : \", detA_np)\n",
    "print(\"determinent with factorization LU : \", detA_lu)"
   ]
  },
  {
   "cell_type": "markdown",
   "metadata": {},
   "source": [
    "### 3 -Computing inverse matrix $A^{-1}$"
   ]
  },
  {
   "cell_type": "markdown",
   "metadata": {},
   "source": [
    "#### - 3.1 Gauss Jordan elimination\n",
    "\n",
    "The method that we have seen until now is Gauss method, where we operate transformations on $A$ until obtaining\n",
    "the echlon form (the triangular matrix) but when we go further and the triangular matrix is identity, it usually called Gauss Jordan elimination.\n",
    "\n",
    "The idea is by transorming $[A|I_n]$ to $[I_n|B]$ is to record the elementary operations performed on A in B such as $B = A^{-1}$, you can see it as if you had a system $AX = X^{'}$ and you find $X= BX^{'} $\n",
    "\n",
    "Check more [details](https://en.wikipedia.org/wiki/Gaussian_elimination)\n",
    "\n",
    "For our implementation we obtain the upper matrix $U$ then we operate transformations to make diagonal"
   ]
  },
  {
   "cell_type": "markdown",
   "metadata": {},
   "source": [
    "#### - 3.2 Make diagonal out of Upper matrix"
   ]
  },
  {
   "cell_type": "code",
   "execution_count": 25,
   "metadata": {},
   "outputs": [],
   "source": [
    "def diag(U):\n",
    "    U = np.array(U)\n",
    "    for i in range(1,U.shape[0]):\n",
    "        for p in range(0, i):\n",
    "            if (U[p, i] != 0):\n",
    "                U[p] = (U[p]/U[p,i]) * U[i,i] - U[i]\n",
    "    return U\n",
    "        \n",
    "    "
   ]
  },
  {
   "cell_type": "markdown",
   "metadata": {},
   "source": [
    "#### - 3.2 Make identity out of diagonal"
   ]
  },
  {
   "cell_type": "code",
   "execution_count": 26,
   "metadata": {},
   "outputs": [],
   "source": [
    "def make_id_fdiag(D):\n",
    "    for i in range(D.shape[0]):\n",
    "        D[i] = D[i] / (D[i,i])\n",
    "    return D"
   ]
  },
  {
   "cell_type": "markdown",
   "metadata": {},
   "source": [
    "#### - 3.3 getting the inverse $A^{-1}$"
   ]
  },
  {
   "cell_type": "code",
   "execution_count": 27,
   "metadata": {},
   "outputs": [],
   "source": [
    "def get_inv(A):\n",
    "    In = np.identity(A.shape[0])\n",
    "    stackA = np.hstack((A,In))\n",
    "    IB = make_id_fdiag(diag(get_U(stackA)))\n",
    "    return IB[:,3:]"
   ]
  },
  {
   "cell_type": "code",
   "execution_count": 28,
   "metadata": {},
   "outputs": [
    {
     "data": {
      "text/plain": [
       "array([[ 1.00000000e+00,  1.38777878e-17, -2.77555756e-17],\n",
       "       [ 0.00000000e+00,  1.00000000e+00,  1.11022302e-16],\n",
       "       [ 0.00000000e+00,  0.00000000e+00,  1.00000000e+00]])"
      ]
     },
     "execution_count": 28,
     "metadata": {},
     "output_type": "execute_result"
    }
   ],
   "source": [
    "# testing \n",
    "get_inv(A) @ A"
   ]
  },
  {
   "cell_type": "code",
   "execution_count": 29,
   "metadata": {},
   "outputs": [
    {
     "data": {
      "text/plain": [
       "True"
      ]
     },
     "execution_count": 29,
     "metadata": {},
     "output_type": "execute_result"
    }
   ],
   "source": [
    "np.allclose(get_inv(A) @ A, np.identity(A.shape[0]))"
   ]
  },
  {
   "cell_type": "markdown",
   "metadata": {},
   "source": [
    "Thank you ! hope that i have brought some value in LU Factorization"
   ]
  }
 ],
 "metadata": {
  "kernelspec": {
   "display_name": "Python 3",
   "language": "python",
   "name": "python3"
  },
  "language_info": {
   "codemirror_mode": {
    "name": "ipython",
    "version": 3
   },
   "file_extension": ".py",
   "mimetype": "text/x-python",
   "name": "python",
   "nbconvert_exporter": "python",
   "pygments_lexer": "ipython3",
   "version": "3.6.6"
  }
 },
 "nbformat": 4,
 "nbformat_minor": 2
}
