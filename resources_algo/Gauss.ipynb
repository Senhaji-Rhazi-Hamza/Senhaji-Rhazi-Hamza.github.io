{
 "cells": [
  {
   "cell_type": "markdown",
   "metadata": {},
   "source": [
    "## Gauss Method\n"
   ]
  },
  {
   "cell_type": "markdown",
   "metadata": {},
   "source": [
    "This is Gauss method elimination for solving systems $AX=b$ by solving an easier equivalent\n",
    "system $TX = b^{'}$ where T is a triangular matrix.\n",
    "for example we have the system \n",
    "\n",
    "$\\begin{cases} -2x + y + -z = 8 \\;\\; (L1) \\\\ -3x – y + 2z = -11 \\;\\;(L2) \\\\ -2x + y + -2z = -3 \\;\\;(L3)\\end{cases}$   which can be rewritten : $\\begin{pmatrix} \n",
    "-2 & 1 & -1 \\\\\n",
    "-3 & -1 & 2 \\\\\n",
    "-2 & 1 & -2\n",
    "\\end{pmatrix} \\begin{pmatrix} \n",
    "x  \\\\\n",
    "y   \\\\\n",
    "z\n",
    "\\end{pmatrix}= \\begin{pmatrix} \n",
    "8  \\\\\n",
    "-11   \\\\\n",
    "3\n",
    "\\end{pmatrix}$\n",
    "\n",
    "When you have linear system and you do linear operations between lines $L_i$ or columns $C_i$ the system obtained stay equivalent so this algorithm do the necessary linear operation to move from $A$ to $T$\n",
    "the algorithm is expressed as follow at each $kth$ matrix iteration : <br/>\n",
    "for $A \\in M_n(R)$ $\\forall i \\in \\; [k,n] L_i^{(k+1)} = L_i^{(k)} - m_i^{(k)} L_k$ where $m_i^{(k)} = \\frac{a_{ik}}{a_{kk}}$  <br> Note that $a_{kk}$ is called the pivot  and $k \\in [2, n]$\n",
    "\n",
    "for more detail check wikipedia [link](https://en.wikipedia.org/wiki/Gaussian_elimination)"
   ]
  },
  {
   "cell_type": "code",
   "execution_count": 1,
   "metadata": {},
   "outputs": [
    {
     "name": "stdout",
     "output_type": "stream",
     "text": [
      "Matrix A\n",
      " [[-2  1 -1]\n",
      " [-3 -1  2]\n",
      " [-2  1  2]]\n",
      "\n",
      "Vector b\n",
      " [[  8]\n",
      " [-11]\n",
      " [ -3]]\n"
     ]
    }
   ],
   "source": [
    "# Let code the Gauss method\n",
    "import numpy as np\n",
    "A = np.array([[-2,1,-1],[-3,-1,2],[-2,1,2]])\n",
    "b = np.array([8, -11, -3]).reshape(3,1)\n",
    "print(\"Matrix A\\n\",A)\n",
    "print(\"\\nVector b\\n\",b)"
   ]
  },
  {
   "cell_type": "code",
   "execution_count": 2,
   "metadata": {},
   "outputs": [
    {
     "data": {
      "text/plain": [
       "array([[ -2,   1,  -1,   8],\n",
       "       [ -3,  -1,   2, -11],\n",
       "       [ -2,   1,   2,  -3]])"
      ]
     },
     "execution_count": 2,
     "metadata": {},
     "output_type": "execute_result"
    }
   ],
   "source": [
    "# we stack the matrix as we can do the lines operations in one time\n",
    "stackA = np.hstack((A,b))\n",
    "stackA"
   ]
  },
  {
   "cell_type": "code",
   "execution_count": 3,
   "metadata": {},
   "outputs": [],
   "source": [
    "def gauss(stackA):\n",
    "    #we convert to np.float 64 because we do divisions that convert thing in float, so to avoid int cast we make it float\n",
    "    T = np.array(stackA).astype(np.float64)\n",
    "    for k in range(0, T.shape[0] - 1):\n",
    "        p = 0\n",
    "        for i in range(k + 1,T.shape[0]):\n",
    "            m = T[i,k]/T[k,k]\n",
    "            el = T[i] - (T[k] * m)\n",
    "            T[i] +=  - (T[k] * m)\n",
    "    return T\n",
    "        "
   ]
  },
  {
   "cell_type": "code",
   "execution_count": 4,
   "metadata": {},
   "outputs": [
    {
     "data": {
      "text/plain": [
       "array([[ -2. ,   1. ,  -1. ,   8. ],\n",
       "       [  0. ,  -2.5,   3.5, -23. ],\n",
       "       [  0. ,   0. ,   3. , -11. ]])"
      ]
     },
     "execution_count": 4,
     "metadata": {},
     "output_type": "execute_result"
    }
   ],
   "source": [
    "T = gauss(stackA)\n",
    "#Triangulat uppper matrix\n",
    "T"
   ]
  },
  {
   "cell_type": "code",
   "execution_count": 6,
   "metadata": {},
   "outputs": [],
   "source": [
    "def solve(T, b0):\n",
    "    n = len(b0)\n",
    "    #we solve the last esuation (line) in the matrix\n",
    "    X = [b0[-1]/T[n - 1, n - 1]]\n",
    "    #we go upper to solve the equations above using the last variable solved\n",
    "    for k in range(n - 2, -1,-1):\n",
    "        a = np.sum([X[(n - 1) - i] * T[k , i] for i in range(n - 1, k, -1)])\n",
    "        term = (1/(T[k,k])) * (b0[k] - a)\n",
    "        X.append(term)\n",
    "    # we reverse W because, we solve it from down to up\n",
    "    return np.array(X[::-1]).reshape(n,1)"
   ]
  },
  {
   "cell_type": "code",
   "execution_count": 7,
   "metadata": {},
   "outputs": [],
   "source": [
    "X = solve(T[:,:3], T[:,3:])\n",
    "a = (A @ X).astype(np.float)\n",
    "b = b.astype(np.float)\n"
   ]
  },
  {
   "cell_type": "code",
   "execution_count": 8,
   "metadata": {},
   "outputs": [
    {
     "data": {
      "text/plain": [
       "True"
      ]
     },
     "execution_count": 8,
     "metadata": {},
     "output_type": "execute_result"
    }
   ],
   "source": [
    "# We use np.allclose because we manipulate float and we have some small imprecisions that make the test equality fail\n",
    "np.allclose(a,b)"
   ]
  },
  {
   "cell_type": "markdown",
   "metadata": {},
   "source": [
    "So now you are happy i guess, you know how to solve a system with a complexity of $O_3$, congratulations, \n",
    "but you're not totally up to it, what if the pivot $a_{kk} = 0$ how you handle it ? \n",
    "\n",
    "Do'nt worry you simply permut the lines (or columns) in order to not have $a_{kk} = 0$,more than that\n",
    "is better to permut each time to have the bigest (in absolute value) $a_{kk}$ possible to have more stable divisions, so we are going to modify slightly\n",
    "the preceding algorithm\n",
    "\n",
    "for more information about permutation matrix see wikipedia [link](https://en.wikipedia.org/wiki/Permutation_matrix)\n"
   ]
  },
  {
   "cell_type": "code",
   "execution_count": 9,
   "metadata": {},
   "outputs": [],
   "source": [
    "#This a permutation Matrix P that when multiplied by M, we permut for M the ith and jth line\n",
    "def permutation_matrix(rang, i, j):\n",
    "    P = np.identity(rang).astype(np.float64)\n",
    "    tmp = P[j].copy()\n",
    "    P[j] = P[i].copy()\n",
    "    P[i] = tmp\n",
    "    return P"
   ]
  },
  {
   "cell_type": "code",
   "execution_count": 10,
   "metadata": {},
   "outputs": [
    {
     "data": {
      "text/plain": [
       "array([[0, 1, 2, 3],\n",
       "       [1, 2, 3, 4],\n",
       "       [2, 3, 4, 5],\n",
       "       [3, 4, 5, 6]])"
      ]
     },
     "execution_count": 10,
     "metadata": {},
     "output_type": "execute_result"
    }
   ],
   "source": [
    "M = np.array([[i + j for i in range(4) ] for j in range(4)])\n",
    "M"
   ]
  },
  {
   "cell_type": "code",
   "execution_count": 11,
   "metadata": {},
   "outputs": [
    {
     "data": {
      "text/plain": [
       "array([[0., 1., 0., 0.],\n",
       "       [1., 0., 0., 0.],\n",
       "       [0., 0., 1., 0.],\n",
       "       [0., 0., 0., 1.]])"
      ]
     },
     "execution_count": 11,
     "metadata": {},
     "output_type": "execute_result"
    }
   ],
   "source": [
    "P = permutation_matrix(4,0,1)\n",
    "P"
   ]
  },
  {
   "cell_type": "code",
   "execution_count": 12,
   "metadata": {},
   "outputs": [
    {
     "data": {
      "text/plain": [
       "array([[1., 2., 3., 4.],\n",
       "       [0., 1., 2., 3.],\n",
       "       [2., 3., 4., 5.],\n",
       "       [3., 4., 5., 6.]])"
      ]
     },
     "execution_count": 12,
     "metadata": {},
     "output_type": "execute_result"
    }
   ],
   "source": [
    "P @ M"
   ]
  },
  {
   "cell_type": "code",
   "execution_count": 13,
   "metadata": {},
   "outputs": [],
   "source": [
    "def gauss_permut(stackA):\n",
    "    #we convert to np.float 64 because we do divisions that convert thing in float, so to avoid int cast we make it float\n",
    "    T = np.array(stackA).astype(np.float64)\n",
    "    for k in range(0, T.shape[0] - 1):\n",
    "        # We add those to lines that look for the max pivot each time and do the permutations\n",
    "        j = np.argmax(abs(T[:,k]))\n",
    "        T = np.array(permutation_matrix(T.shape[0],k,j) @ T)\n",
    "        for i in range(k + 1,T.shape[0]):\n",
    "            m = T[i,k]/T[k,k]\n",
    "            el = T[i] - (T[k] * m)\n",
    "            T[i] +=  - (T[k] * m)\n",
    "    return T\n",
    "        "
   ]
  },
  {
   "cell_type": "code",
   "execution_count": 14,
   "metadata": {},
   "outputs": [],
   "source": [
    "#np.set_printoptions(formatter={'float_kind':float_formatter})"
   ]
  },
  {
   "cell_type": "code",
   "execution_count": 15,
   "metadata": {},
   "outputs": [
    {
     "data": {
      "text/plain": [
       "array([['-3.00', '-1.00', '2.00', '-11.00'],\n",
       "       ['0.00', '1.67', '-2.33', '15.33'],\n",
       "       ['0.00', '0.00', '3.00', '-11.00']], dtype='<U6')"
      ]
     },
     "execution_count": 15,
     "metadata": {},
     "output_type": "execute_result"
    }
   ],
   "source": [
    "T = gauss_permut(stackA)\n",
    "#Triangular uppper matrix different from the previous one\n",
    "#We use float_formatter just to reformat for obtaining nicer display\n",
    "float_formatter = lambda x: \"%.2f\" % x\n",
    "np.array([[float_formatter(el) for el in line] for line in T])"
   ]
  },
  {
   "cell_type": "code",
   "execution_count": 16,
   "metadata": {},
   "outputs": [],
   "source": [
    "X = solve(T[:,:3], T[:,3:])\n",
    "a = (A @ X).astype(np.float)\n",
    "b = b.astype(np.float)\n"
   ]
  },
  {
   "cell_type": "code",
   "execution_count": 17,
   "metadata": {},
   "outputs": [
    {
     "data": {
      "text/plain": [
       "True"
      ]
     },
     "execution_count": 17,
     "metadata": {},
     "output_type": "execute_result"
    }
   ],
   "source": [
    "# as expected it should be true\n",
    "np.allclose(a,b)"
   ]
  },
  {
   "cell_type": "markdown",
   "metadata": {},
   "source": [
    "### Thank you ! \n",
    "I whish i have puted some clarity to the gauss elimination method for you, Thank you ! "
   ]
  }
 ],
 "metadata": {
  "kernelspec": {
   "display_name": "Python 3",
   "language": "python",
   "name": "python3"
  },
  "language_info": {
   "codemirror_mode": {
    "name": "ipython",
    "version": 3
   },
   "file_extension": ".py",
   "mimetype": "text/x-python",
   "name": "python",
   "nbconvert_exporter": "python",
   "pygments_lexer": "ipython3",
   "version": "3.6.6"
  }
 },
 "nbformat": 4,
 "nbformat_minor": 2
}
