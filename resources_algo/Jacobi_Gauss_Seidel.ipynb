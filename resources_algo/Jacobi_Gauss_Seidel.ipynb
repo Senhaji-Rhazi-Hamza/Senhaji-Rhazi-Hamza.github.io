{
 "cells": [
  {
   "cell_type": "markdown",
   "metadata": {},
   "source": [
    "# Jacobi and Gauss Seidel Method \n",
    "\n",
    "In this Part we are going to see 2 other iterative methods to solve linear systems,Jacobi Method and Gauss seidel Method\n",
    "\n",
    "## 1-Jacobi Method\n",
    "\n",
    "Jacobi method is an iterative method to solve systems $Ax = b$ by rewriting the system (under conditions on A) in an equivalent one $x = Bx + f$ and consider the sequence $x^{n+1} = Bx^{n} + f$ where  $\\lim_{n\\to\\infty}  \\lVert x - x^n \\rVert = 0 $, by starting from a point in space we endup (under conditions on A) to converge\n",
    "to $x$ the solution of $Ax = b$\n",
    "\n",
    "Let rewrite $A = D - E - F$ where \n",
    "\n",
    "* D is the diagonal elements of $A$\n",
    "\n",
    "* $E$ is - the lower triangular matrix of $A$ where $e_{ij} = -a_{ij}$ for  $i > j$ else $e_{ij} = 0$\n",
    "\n",
    "* F is - the upper triangular matrix of $A$ where $e_{ij} = -a_{ij}$ for  $i < j$ else $e_{ij} = 0$\n",
    "\n",
    "We obtain  \n",
    "$\n",
    "\\begin{align}\n",
    "Ax = b \\iff (D - E - F) x = b \\\\\n",
    "\\iff Dx =(E + F)x + b \\\\\n",
    "\\iff x = D^{-1}(E + F)x + D^{-1}b\\\\\n",
    "\\iff x = Bx + f \\; \\\\where \\; B =  D^{-1}(E + F)= I - D^{-1} A \\; and \\; f =  D^{-1}b\n",
    "\\end{align}\n",
    "$\n",
    "\n",
    "### Condition of existence :\n",
    "\n",
    "Let define the error $e^{k+1} = x^{k + 2} - x^{k + 1}$:\n",
    "\n",
    "\n",
    "$\\begin{align}\n",
    "x^{k + 2} - x^{k + 1} = (I - D^{-1} A)x^{k+ 1} + D^{-1}b - ((I - D^{-1} A)x^{k} + D^{-1}b)\\\\\n",
    "\\iff x^{k + 2} - x^{k + 1} = (I - D^{-1} A)(x^{k+ 1} - x^{k})\\\\\n",
    "\\iff e^{k+2} = (I - D^{-1} A)e^{k + 1} \\\\\n",
    "\\iff e^{k+2} = Be^{k + 1}\\\\\n",
    "\\iff e^{k+1} = B^{k + 1}e^{0}\n",
    "\\end{align}\n",
    "$\n",
    "\n",
    "#### Theorems\n",
    "\n",
    "* $\\lim_{k\\to\\infty} \\lVert B^k \\rVert = 0$ is a necesssary and sufficient condition for the convergence of Jacobi method\n",
    "\n",
    "* what ever starting point $x^0$ the method converge for the systems where A is strictly diagonally dominant, it means what ever square submatrice  we consider from A, this submatrice is inversible\n",
    "\n",
    "## 2-Gauss Seidel Method\n",
    "\n",
    "Gauss seidel method, has nearly the same matricial expression than jacobi method, but it is a sequential\n",
    "method it can't be parallelized in oposition to jacobi that can be\n",
    "\n",
    "Before giving the matricial expression we are going to explain the idea and what happens:\n",
    "\n",
    "The idea is still to construct a sequence $x^n$ that converge to the solution of the system $Ax=b$.\n",
    "\n",
    "Given a kth point in the sequence $x^k = (x_1^{k}, .... x_n^{k}) \\in {\\Bbb R}^n$, to compute $x^{k+1} = (x_1^{k + 1}, .... x_n^{k + 1})$, we compute element by element by solving (under the condition $aii \\neq 0$) the equations :\n",
    "\n",
    "for $i \\in [1, n]$:\n",
    "\n",
    "$a_{i1}x_1^{k}+...+a_{ii}x_i^{k+1}+....+a_{in}x_1^{k}=b_i$ we get $x_i^{k+1}$ at equation (i)\n",
    "\n",
    "after doing that for all $i \\in [1, n]$, we call it an iteration.\n",
    "\n",
    "Now let have the matricial form for those operations:\n",
    "\n",
    "$A = D - E - F$\n",
    "\n",
    "\n",
    "$\\begin{align}\n",
    "A x = b\\\\\n",
    "\\iff& (D - E - F)x = b\\\\\n",
    "\\iff& (D - E - F)x = b\\\\\n",
    "\\iff& (D - E)x = Fx + b\\\\\n",
    "\\end{align}\n",
    "$\n",
    "\n",
    "that equation $(D - E)x^{k + 1} = Fx^k + b$  is equivalent to one Gauss seidel iteration\n",
    "\n",
    "### Condition of existence :\n",
    "\n",
    "#### Theorems\n",
    "Gauss Seidel method converge if\n",
    "* A is defined matrix positive\n",
    "\n",
    "* A is strictly diagonally dominant"
   ]
  },
  {
   "cell_type": "markdown",
   "metadata": {},
   "source": [
    "###  1 Jacobi Method\n",
    "\n",
    "#### 1.1 - Matrix constructions"
   ]
  },
  {
   "cell_type": "code",
   "execution_count": 1,
   "metadata": {},
   "outputs": [
    {
     "name": "stdout",
     "output_type": "stream",
     "text": [
      "Matrix A\n",
      " [[ 2 -1  0]\n",
      " [-1  2 -1]\n",
      " [ 0 -1  2]]\n",
      "\n",
      "Vector b\n",
      " [[1]\n",
      " [1]\n",
      " [1]]\n"
     ]
    }
   ],
   "source": [
    "# We take a symetric definite-positve matrix to fit the rules of algorithm convergences\n",
    "# and we take a b(1,1,1) we are hoping to find the same thing with jasobi and gauss\n",
    "import numpy as np\n",
    "A = np.array([[2,-1,0],[-1,2,-1],[0,-1,2]])\n",
    "b = np.array([1, 1, 1]).reshape(3,1)\n",
    "print(\"Matrix A\\n\",A)\n",
    "print(\"\\nVector b\\n\",b)"
   ]
  },
  {
   "cell_type": "code",
   "execution_count": 2,
   "metadata": {},
   "outputs": [],
   "source": [
    "def get_E(A):\n",
    "    E = [[-A[i,j] if(i > j) else 0 for j in range(A.shape[1])] for i in range(A.shape[0])]\n",
    "    return np.array(E)\n",
    "def get_F(A):\n",
    "    F = [[-A[i,j] if(i < j) else 0 for j in range(A.shape[1])] for i in range(A.shape[0])]\n",
    "    return np.array(F)\n",
    "def get_D(A):\n",
    "    D = [[A[i,j] if(i == j) else 0 for j in range(A.shape[1])] for i in range(A.shape[0])]\n",
    "    return np.array(D)"
   ]
  },
  {
   "cell_type": "code",
   "execution_count": 3,
   "metadata": {},
   "outputs": [
    {
     "name": "stdout",
     "output_type": "stream",
     "text": [
      "F is : \n",
      " [[0 1 0]\n",
      " [0 0 1]\n",
      " [0 0 0]]\n",
      "\n",
      "D is : \n",
      " [[2 0 0]\n",
      " [0 2 0]\n",
      " [0 0 2]]\n",
      "\n",
      "E is : \n",
      " [[0 0 0]\n",
      " [1 0 0]\n",
      " [0 1 0]]\n"
     ]
    }
   ],
   "source": [
    "E = get_E(A)\n",
    "F = get_F(A)\n",
    "D = get_D(A)\n",
    "print(\"F is : \\n\", F)\n",
    "print(\"\\nD is : \\n\", D)\n",
    "print(\"\\nE is : \\n\", E)"
   ]
  },
  {
   "cell_type": "code",
   "execution_count": 4,
   "metadata": {},
   "outputs": [
    {
     "data": {
      "text/plain": [
       "True"
      ]
     },
     "execution_count": 4,
     "metadata": {},
     "output_type": "execute_result"
    }
   ],
   "source": [
    "# our result seems to be confirmed\n",
    "np.allclose(D - E - F, A)\n"
   ]
  },
  {
   "cell_type": "markdown",
   "metadata": {},
   "source": [
    "#### 1.2 - Jacobi algorithm"
   ]
  },
  {
   "cell_type": "code",
   "execution_count": 5,
   "metadata": {},
   "outputs": [
    {
     "data": {
      "text/plain": [
       "array([[5886.65827897],\n",
       "       [2702.92548757],\n",
       "       [2387.194153  ]])"
      ]
     },
     "execution_count": 5,
     "metadata": {},
     "output_type": "execute_result"
    }
   ],
   "source": [
    "#a random point in a \"space\" looks like\n",
    "x0 = np.random.rand(3).reshape(A.shape[0], 1) * 10000\n",
    "x0"
   ]
  },
  {
   "cell_type": "code",
   "execution_count": 6,
   "metadata": {},
   "outputs": [],
   "source": [
    "# we construct the function loop where we will iterate the sequence\n",
    "def jacobi(A,b, tol=1e-5):\n",
    "    E = get_E(A)\n",
    "    F = get_F(A)\n",
    "    D = get_D(A)\n",
    "    B = np.linalg.inv(D) @ (E + F)\n",
    "    x0 = np.random.rand(3).reshape(A.shape[0], 1) * 10000\n",
    "    x1 = B @ x0 + np.linalg.inv(D) @ b\n",
    "    while(np.linalg.norm(x1 - x0) > tol):\n",
    "        x0 = x1\n",
    "        x1 = B @ x0 + np.linalg.inv(D) @ b\n",
    "    return x1"
   ]
  },
  {
   "cell_type": "code",
   "execution_count": 7,
   "metadata": {},
   "outputs": [
    {
     "data": {
      "text/plain": [
       "array([[1.50001013],\n",
       "       [2.00001557],\n",
       "       [1.50001013]])"
      ]
     },
     "execution_count": 7,
     "metadata": {},
     "output_type": "execute_result"
    }
   ],
   "source": [
    "x_jacobi = jacobi(A, b)\n",
    "x_jacobi "
   ]
  },
  {
   "cell_type": "markdown",
   "metadata": {},
   "source": [
    "###  2 Gauss seidel Method\n",
    "#### 2.1 Gauss seidel implem "
   ]
  },
  {
   "cell_type": "code",
   "execution_count": 8,
   "metadata": {},
   "outputs": [],
   "source": [
    "# we construct the function loop where we will iterate the sequence (we are borowing some functions from jacobi part)\n",
    "def gauss_seidel(A,b, tol=1e-5):\n",
    "    E = get_E(A)\n",
    "    F = get_F(A)\n",
    "    D = get_D(A)\n",
    "    x0 = np.random.rand(3).reshape(A.shape[0], 1) * 10000\n",
    "    B = np.linalg.inv(D - E) @ F\n",
    "    x1 = (D - E) @ x0\n",
    "    while(np.linalg.norm(x1 - x0) > tol):\n",
    "        x0 = x1\n",
    "        x1 = B @ x0 + np.linalg.inv(D - E) @ b\n",
    "    return x1"
   ]
  },
  {
   "cell_type": "code",
   "execution_count": 9,
   "metadata": {},
   "outputs": [
    {
     "data": {
      "text/plain": [
       "array([[1.50000363],\n",
       "       [2.00000363],\n",
       "       [1.50000182]])"
      ]
     },
     "execution_count": 9,
     "metadata": {},
     "output_type": "execute_result"
    }
   ],
   "source": [
    "x_gauss_seidel = gauss_seidel(A, b)\n",
    "x_gauss_seidel"
   ]
  },
  {
   "cell_type": "code",
   "execution_count": 10,
   "metadata": {},
   "outputs": [
    {
     "data": {
      "text/plain": [
       "True"
      ]
     },
     "execution_count": 10,
     "metadata": {},
     "output_type": "execute_result"
    }
   ],
   "source": [
    "np.allclose(x_jacobi, x_gauss_seidel)"
   ]
  },
  {
   "cell_type": "markdown",
   "metadata": {},
   "source": [
    "Thank you ! hope that i have brought some value in Gauss seidel and Jacobi method"
   ]
  }
 ],
 "metadata": {
  "kernelspec": {
   "display_name": "Python 3",
   "language": "python",
   "name": "python3"
  },
  "language_info": {
   "codemirror_mode": {
    "name": "ipython",
    "version": 3
   },
   "file_extension": ".py",
   "mimetype": "text/x-python",
   "name": "python",
   "nbconvert_exporter": "python",
   "pygments_lexer": "ipython3",
   "version": "3.6.6"
  }
 },
 "nbformat": 4,
 "nbformat_minor": 2
}
