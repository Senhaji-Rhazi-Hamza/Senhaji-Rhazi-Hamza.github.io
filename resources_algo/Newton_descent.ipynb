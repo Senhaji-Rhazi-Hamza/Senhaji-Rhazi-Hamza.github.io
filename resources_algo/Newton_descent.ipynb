{
 "cells": [
  {
   "cell_type": "markdown",
   "metadata": {},
   "source": [
    "# Newton Descent\n",
    "\n",
    "Newton method or newton-raphson method, is a root-finding algorithm for finding $\\alpha$ that satisfies $ f(\\alpha) = 0$ \n",
    "\n",
    "When applied on the derivative of the function $f^{'}$ it allows to find the root of the derivative $\\beta$ that satisfies $f^{'}(\\beta) = 0$, this $\\beta$ is an extremum, means a maximum or a minimum of the function, those results works on ${\\Bbb R}$ and are generalized to ${\\Bbb R^n}$ \n",
    "\n",
    "This method is constructed by a sequence $x_{n+1} = x_{n} + \\Delta_{x_n}$ here the [rate of convergence](https://en.wikipedia.org/wiki/Rate_of_convergence) is quadratic, it goes quicker toward the solution than the rate with the normal gradient descent \n",
    "\n",
    "The method is not widely used because it sometimes heavy to compute $\\Delta_{x_n}$ that implies the gradient and the hessian matrix (we will see more about it later)\n",
    "\n",
    "## Plan of this lecon\n",
    "\n",
    "### 1 - Root finding algorithm\n",
    "We are going to see in this part how this algorithm help us to find a root of a function\n",
    "### 2 - Root finding applied to the derivative\n",
    "If we do apply newton-raphson algorithm for the derivative, it will find where the derivative get to zero, so it will find an exremum and we derive from that the newton descent\n",
    "### 3 - Applying the newton descent \n",
    "We will take the previous example of temperature (elipses) and see how we use newton descent in order to find an extremum"
   ]
  },
  {
   "cell_type": "markdown",
   "metadata": {},
   "source": [
    "### 1 - Root finding algorithm\n",
    "#### 1.1 - Pseudo proof\n",
    "Let consider a differentiable function $f$ such as $\\alpha$ is a root of the function ($f(\\alpha) = 0$), the expression of the derivative at $\\alpha$ is \n",
    "$$\\begin{align}\n",
    "\\lim\\limits_{x\\to \\alpha} \\frac{f(\\alpha) - f(x)}{(\\alpha - x)} = f^{'}(\\alpha) \\iff & \\lim\\limits_{x\\to \\alpha} \\;f(x) = f^{'}(\\alpha)(x - \\alpha) + f(\\alpha)\\\\\n",
    "\\end{align}$$\n",
    "\n",
    "if $x_{n+1}\\approx \\alpha$ and $x_{n}\\approx \\alpha$ such as $|x_{n+1} - \\alpha| < |x_{n} - \\alpha|$ this equality $\\lim\\limits_{x\\to \\alpha} \\;f(x) = 0 = f^{'}(x_{n})(x_{n+1} - x_{n}) + f(x_{n})$ still valid and implies another one $x_{n+1} = x_n - \\frac{f(x_{n})}{f^{'}(x_{n})}$ and this is our newton sequence, for more formal proof [check](https://nptel.ac.in/courses/122104019/numerical-analysis/Rathish-kumar/ratish-1/f3node7.html)\n",
    "#### 1.2 - Applying root finding algorithm on an example\n",
    "##### 1.2.1 - Steps\n",
    "We consider the function $f(x)=x^3$\n",
    "We consider it derivative $f^{'}(x)=3x^2$\n",
    "We consider a starting point $x_0= -2$\n",
    "We compute the sequence $x_{n+1} = x_n - \\frac{f(x_{n})}{f^{'}(x_{n})}$ until $f(x_{n+1})\\approx 0$\n"
   ]
  },
  {
   "cell_type": "markdown",
   "metadata": {},
   "source": [
    "##### 1.2.3 - Defining functions \n"
   ]
  },
  {
   "cell_type": "code",
   "execution_count": 1,
   "metadata": {},
   "outputs": [],
   "source": [
    "import numpy as np \n",
    "import matplotlib.pyplot as plt\n",
    "from matplotlib.pyplot import ylim, xlim\n",
    "\n",
    "def f(x):\n",
    "    return (x)**3\n",
    "def df(x):\n",
    "    return 3 * x**2\n",
    "def plot_line(plt, X1, X2, marker='o', color ='r'):\n",
    "    x1, x2 = (X1[0], X2[0]), (X1[1], X2[1])\n",
    "    plt.plot(x1, x2, marker = marker, color = color)\n",
    "def next_element(f, df, xn):\n",
    "    xn1 = xn - (f(xn)/df(xn))\n",
    "    return xn1\n",
    "def newton_steps(start, f, df, tol =1e-3):\n",
    "    x0 = start\n",
    "    X = [(x0, f(x0))]\n",
    "    while(abs(f(x0)) > tol):\n",
    "        x1 = next_element(f, df, x0)\n",
    "        x0 = x1\n",
    "        X.append((x0, f(x0)))\n",
    "    return X\n",
    "def plot_lines(plt, X):\n",
    "    for i in range(len(X) - 1):\n",
    "        plot_line(plt, X[i], X[i+1])\n",
    "    "
   ]
  },
  {
   "cell_type": "markdown",
   "metadata": {},
   "source": [
    "##### 1.2.4 - Ploting newton method \n"
   ]
  },
  {
   "cell_type": "code",
   "execution_count": 2,
   "metadata": {},
   "outputs": [
    {
     "name": "stdout",
     "output_type": "stream",
     "text": [
      "The root solution found by newton method is(-0.07803688462124676,-0.0004752255365083931)\n"
     ]
    },
    {
     "data": {
      "image/png": "[encoded data removed]",
      "text/plain": [
       "<Figure size 432x288 with 1 Axes>"
      ]
     },
     "metadata": {
      "needs_background": "light"
     },
     "output_type": "display_data"
    }
   ],
   "source": [
    "XS = np.linspace(-2,2,100)\n",
    "YS = np.array([f(x) for x in XS])\n",
    "xlim(-2,2)\n",
    "ylim(-8, 8)\n",
    "x0 = -2\n",
    "X = newton_steps(x0, f, df)\n",
    "plt.plot(XS,YS)\n",
    "plot_lines(plt, X)\n",
    "plt.grid(True)\n",
    "xs, ys = X[-1]\n",
    "print(\"The root solution found by newton method is\" + \"(\" +str(xs)+\",\"+str(ys)+\")\")\n",
    "plt.show()"
   ]
  },
  {
   "cell_type": "markdown",
   "metadata": {},
   "source": [
    "For more image vizualisation check [wikipedia](https://en.wikipedia.org/wiki/Newton%27s_method)"
   ]
  },
  {
   "cell_type": "markdown",
   "metadata": {},
   "source": [
    "### 2 - Root finding applied to the derivative\n",
    "#### 2.1 - Taylor young Decomposition\n",
    "##### 2.1.1 - Introduction\n",
    "In this part we are going to use Taylor young formula to extract newton descent formula, but we will explain and pseudo-proof the taylor young formula before using it\n",
    "##### 2.1.2 - Motivation\n",
    "I'm sure in high school in some exercice of physics,in pendulas formulas you have considered the following approximations : \n",
    "\n",
    "\n",
    "$f\\colon\\begin{cases}\n",
    "sin(x) \\approx x \\;\\;\\;\\;\\; \\text{when }x\\approx0\\\\\n",
    "cos(x) \\approx \\frac{x^2}{2} \\;\\;\\;\\;\\; \\text{when }x\\approx0\\\\\n",
    "\\end{cases}$\n",
    "\n",
    "I'm sure you are wondering where thoses approximations came from.\n",
    "\n",
    "In mathematic when we don't know a function we try to use all the toolbox at our disposal to approximate it, that why when we have $n$ points we use concepts like [polynomial interpolation](https://whatis.techtarget.com/definition/polynomial-interpolation) or more advanced machine learning technics.\n",
    "\n",
    "##### 2.1.2 - Taylor young Formula\n",
    "\n",
    "In our case, we are trying to approximate a function locally near a point $x_0$ for example.\n",
    "\n",
    "Since we approximate function with polynoms and a polynom of degree $n$ has as an expression : \n",
    "$$P_n(x) = \\sum^{k = n}_{k = 0}a_kx^k$$\n",
    "\n",
    "If we consider $x = x_0 + h$ and i want to approximate $f(x)$ around $x=x_0\\iff h\\longrightarrow0$  with \n",
    "a polynom of degree 1 $P_1(h) = ah + b$ i will write \n",
    "\n",
    "$$f(x_0 + h) \\approx ah + b$$\n",
    "\n",
    "We find $b$ by computing $\\lim\\limits_{h\\to 0}f(x_0 + h) = b$ and we find a by noticing that $\\forall h \\in DP_1^{'}\\, P_1^{'}(h) = a$ and specially when $h = 0$ so if $P_1(h)$ is a good approximation of $f$ that $\\implies a = f^{'}(x_0)$\n",
    "\n",
    "If i do the same reasoning for degree $\\{2,3,...n\\}$ i will obtain this formula \n",
    "\n",
    "$$f(x_{0}+h) \\approx \\sum _{{i=0}}^{n}a_{i}h^{i}$$\n",
    "\n",
    "and to transform the $\\approx$ to $=$ i should take on account the error approximation $R_n(h)$ that verify :\n",
    "$$ \\lim\\limits_{h\\to 0}\\frac{R_n(h)}{h^n} = 0 $$\n",
    "\n",
    "So the formula we obtain is [Taylor young formula](https://fr.wikipedia.org/wiki/Th%C3%A9or%C3%A8me_de_Taylor#Formule_de_Taylor-Young) : \n",
    "\n",
    "$$f(x_{0}+h) = \\sum _{{i=0}}^{n}a_{i}h^{i} + R_n(h)$$\n",
    "\n",
    "Those results works on conditons on $f$ and are generalized to $\\Bbb R^n$\n",
    "\n",
    "#### 2.2 - Newton descent formula by Taylor approximation\n",
    "\n",
    "let take a diffrentiable function f which i am trying to find its extremum, so by using taylor young decomposition  at the second degree near the point $x_n$ we can write \n",
    "\n",
    "$$f(x_n+\\Delta x) \\approx f(x_n)+f'(x_n)\\Delta x+\\frac 1 2 f''(x_n) \\Delta x^2$$\n",
    "\n",
    "If $x_{n + 1} = x_n+\\Delta x $ is a stationary point, it means that the derivative \n",
    "\n",
    "$$\n",
    "\\begin{align}\n",
    "\\frac{f(x_n+\\Delta x) - f(x_n)}{\\Delta x} = \\frac{f'(x_n)\\Delta x+\\frac 1 2 f''(x_n) \\Delta x^2}{\\Delta x} = 0 &\\implies f'(x_n)\\Delta x+\\frac 1 2 f''(x_n) \\Delta x^2 = 0\\\\\n",
    "&\\implies \\Delta x = - \\frac{f'(x)}{f''(x)} \\\\\n",
    "&\\implies \\boxed{x_{n + 1} = x_n+ - \\frac{f'(x)}{f''(x)}}\n",
    "\\end{align}\n",
    "$$\n",
    "\n",
    "And that sequence $x_{n + 1} = x_n+ - \\frac{f'(x)}{f''(x)}$ is Newton-raphson sequence applied to the derivativ that will converge (under conditions) to the root of the derivativ $x^{*}\\;f^{'}(x^{'}) = 0$, and since this works for $\\Bbb R^n$, the equivalent of $f'$ is the greadient $\\nabla f$ seen in previous chapter and the equivalent of  $f''(x)$ is the [hessian matrix](https://en.wikipedia.org/wiki/Hessian_matrix) that could be understood as the gradient of each element of the gradient (the derivativ of the derivativ) "
   ]
  },
  {
   "cell_type": "markdown",
   "metadata": {},
   "source": [
    "### 3 - Applying the newton descent \n",
    "#### 3.1 - Temperature example \n",
    "So here we consider the same example seen in the gradient chapter we have the function : $\\frac{x^2}{2} + y^2 = T(x,y)$ \n",
    "\n",
    "\n",
    "The gradient of the function since last time didn't change : $\\overrightarrow{grad}T(x, y) = \\begin{pmatrix} \n",
    "\\frac{\\partial T(x, y)}{\\partial x}  \\\\\n",
    "\\frac{\\partial T(x, y)}{\\partial y}  \n",
    "\\end{pmatrix}=\\begin{pmatrix} \n",
    "x  \\\\\n",
    "2y  \n",
    "\\end{pmatrix}\n",
    "$\n",
    "\n",
    "And for the hessian matrix $\\textbf{H}_{T(x, y)} =  \\begin{pmatrix} \n",
    "\\frac{\\partial^2 T(x, y)}{\\partial x^2} & \\frac{\\partial^2 T(x, y)}{\\partial x \\partial y} \\\\\n",
    "\\frac{\\partial^2 T(x, y)}{\\partial y \\partial x} &  \\frac{\\partial^2 T(x, y)}{\\partial y^2}\n",
    "\\end{pmatrix}=\\begin{pmatrix} \n",
    "1 & 0\\\\\n",
    "0 &  2 \n",
    "\\end{pmatrix}$   \n",
    "\n",
    "The iso-energetic levels are given by $T(x,y) = c_{ste} \\implies y = \\pm{\\sqrt{c_{ste} - \\frac{x^2}{2} }}$ \n",
    "#### 3.2 - Implementation \n",
    "Let implement all of the temperature function, its gradient, its hessian, its iso-energetic function levels and the newton-raphson sequence and then apply the sequence on the equipotential lines\n",
    "##### 3.2.1 - function definitions"
   ]
  },
  {
   "cell_type": "code",
   "execution_count": 3,
   "metadata": {},
   "outputs": [],
   "source": [
    "#Temperature function Won't be used but if someone want to check something with it\n",
    "def T(x, y):\n",
    "    return ((x)**2)/2 + ((y)**2) \n",
    "\n",
    "#Gradient of Temperature function \n",
    "def gradT(x, y):\n",
    "    return np.array([x , 2 * y]).reshape(2,1)\n",
    "\n",
    "#Hessian matrix of Temperature function \n",
    "def HT(x, y):\n",
    "    return np.array([[1 , 0],[0,2]]).reshape(2,2)\n",
    "\n",
    "#iso energetic function\n",
    "def f1(x, C = 1):\n",
    "    val = C - ((x**2)/2)\n",
    "    if (val >= 0) :\n",
    "        return np.sqrt(val)\n",
    "    else:\n",
    "        return np.nan\n",
    "def next_element(x, y):\n",
    "    xn = np.array([x,y]).reshape(2,1)\n",
    "    xn1 = xn - np.linalg.inv(HT(x, y)) @ gradT(x, y)  #we do H⁻1 since 1/H doesn't exist\n",
    "    return xn1\n",
    "def newton_descent(x, y, tol=1e-2):\n",
    "    xn = np.array([x, y]).reshape(2, 1)\n",
    "    XS = [xn]\n",
    "    xn1 = xn + 2\n",
    "    while (np.linalg.norm(xn1 - xn) > tol):\n",
    "        xn1 = next_element(xn[0], xn[1])\n",
    "        xn = xn1\n",
    "        XS.append(xn)\n",
    "    return np.array(XS)\n",
    "def plot_func(f, X, Cs):\n",
    "    for C in Cs:\n",
    "        plt.plot(X ,[f(el, C) for el in X ],\"black\")\n",
    "        plt.plot(X ,[-f(el, C) for el in X ],\"black\")\n",
    "    \n",
    "    "
   ]
  },
  {
   "cell_type": "markdown",
   "metadata": {},
   "source": [
    "##### 3.2.2 -Applying newton descent algorith"
   ]
  },
  {
   "cell_type": "code",
   "execution_count": 4,
   "metadata": {},
   "outputs": [
    {
     "name": "stdout",
     "output_type": "stream",
     "text": [
      "the method converged in 2 steps\n"
     ]
    },
    {
     "data": {
      "image/png": "[encoded data removed]",
      "text/plain": [
       "<Figure size 432x288 with 1 Axes>"
      ]
     },
     "metadata": {
      "needs_background": "light"
     },
     "output_type": "display_data"
    }
   ],
   "source": [
    "#rate definition\n",
    "#plt.rcParams['figure.figsize'] = 15,5\n",
    "alpha_T = 0.2\n",
    "\n",
    "# levels of energy\n",
    "Cs = np.linspace(0,2,8)\n",
    "\n",
    "#Random coordinate space within the considired range\n",
    "x0 = -1.6\n",
    "y0 = 1.5\n",
    "\n",
    "X = np.linspace(-2,2,100)\n",
    "\n",
    "Xs = newton_descent(x0, y0,  tol=1e-2)\n",
    "\n",
    "ylim(-2.5,2.5)\n",
    "xlim(-2.5,2.5)\n",
    "#plot the function f1 according to the different levels of energy\n",
    "plot_func(f1, X,Cs)\n",
    "plt.plot(Xs[:,0],Xs[:,1],\"ro-\")\n",
    "print(\"the method converged in \" + str(len(Xs)) + \" steps\")\n",
    "\n",
    "    \n",
    "#construct the sequence \n",
    "plt.show()"
   ]
  },
  {
   "cell_type": "markdown",
   "metadata": {},
   "source": [
    "#### 3.3 - Newton-raphson vs Gradient\n",
    "\n",
    "If you have followed the chapter on gradient descent for the same example, i imagine you astonished, because to be able to converge just in 2 steps for the gradient descent we called heavy tools (conjugate gradient) to make it possible, and here just at the 1st attempt we did it, so why bother to do the gradient again ? \n",
    "\n",
    "Actually here we knew what the hessian matrix was, and more than that it was diagonal, so computing $\\textbf{H}^-1$ wasn't costly, but when you don't know what the hessian matrix is and you have to approximate it inverse, is quiet heavy at each iteration to do that, so we prefer method like gradient\n",
    "\n",
    "Another point we converged here in 2 steps because we were approximating a function of second degree, to see more about how gradient and newton sequence differes on convergence i invite you to check those links [link1](https://en.wikipedia.org/wiki/Newton%27s_method_in_optimization)  [link2](https://stats.stackexchange.com/questions/253632/why-is-newtons-method-not-widely-used-in-machine-learning)\n",
    "#### The END\n",
    "Thank you, i wish you liked the explanation for this course !"
   ]
  }
 ],
 "metadata": {
  "kernelspec": {
   "display_name": "Python 3",
   "language": "python",
   "name": "python3"
  },
  "language_info": {
   "codemirror_mode": {
    "name": "ipython",
    "version": 3
   },
   "file_extension": ".py",
   "mimetype": "text/x-python",
   "name": "python",
   "nbconvert_exporter": "python",
   "pygments_lexer": "ipython3",
   "version": "3.6.6"
  }
 },
 "nbformat": 4,
 "nbformat_minor": 2
}
